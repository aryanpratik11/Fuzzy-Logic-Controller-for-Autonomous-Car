{
 "cells": [
  {
   "cell_type": "code",
   "execution_count": 1,
   "id": "90c009e6",
   "metadata": {},
   "outputs": [],
   "source": [
    "import numpy as np\n",
    "import skfuzzy as fuzz\n",
    "from skfuzzy import control as ctrl"
   ]
  },
  {
   "cell_type": "code",
   "execution_count": 2,
   "id": "23174666",
   "metadata": {},
   "outputs": [],
   "source": [
    "signal_color = ctrl.Antecedent(np.arange(0, 3, 1), 'signal_color')  # 0: Red, 1: Yellow, 2: Green\n",
    "distance = ctrl.Antecedent(np.arange(0, 101, 1), 'distance')        # Distance to signal (0 to 100 meters)"
   ]
  },
  {
   "cell_type": "code",
   "execution_count": 4,
   "id": "6e2d7525",
   "metadata": {},
   "outputs": [],
   "source": [
    "deceleration = ctrl.Consequent(np.arange(0, 11, 1), 'deceleration')  # 0 to 10 units\n",
    "stop_decision = ctrl.Consequent(np.arange(0, 2, 1), 'stop_decision')  # 0: Stop, 1: Go"
   ]
  },
  {
   "cell_type": "code",
   "execution_count": 5,
   "id": "1ce2f1e5",
   "metadata": {},
   "outputs": [],
   "source": [
    "signal_color['red'] = fuzz.trimf(signal_color.universe, [0, 0, 0])\n",
    "signal_color['yellow'] = fuzz.trimf(signal_color.universe, [1, 1, 1])\n",
    "signal_color['green'] = fuzz.trimf(signal_color.universe, [2, 2, 2])\n",
    "\n",
    "# Membership functions for distance\n",
    "distance['close'] = fuzz.trimf(distance.universe, [0, 0, 40])\n",
    "distance['medium'] = fuzz.trimf(distance.universe, [30, 50, 70])\n",
    "distance['far'] = fuzz.trimf(distance.universe, [60, 100, 100])\n",
    "\n",
    "# Membership functions for deceleration\n",
    "deceleration['none'] = fuzz.trimf(deceleration.universe, [0, 0, 2])\n",
    "deceleration['moderate'] = fuzz.trimf(deceleration.universe, [3, 5, 7])\n",
    "deceleration['high'] = fuzz.trimf(deceleration.universe, [7, 10, 10])\n",
    "\n",
    "# Membership functions for stop_decision\n",
    "stop_decision['stop'] = fuzz.trimf(stop_decision.universe, [0, 0, 0])\n",
    "stop_decision['go'] = fuzz.trimf(stop_decision.universe, [1, 1, 1])\n"
   ]
  },
  {
   "cell_type": "code",
   "execution_count": 6,
   "id": "38af7261",
   "metadata": {},
   "outputs": [],
   "source": [
    "rule1 = ctrl.Rule(signal_color['red'] & distance['close'], \n",
    "                  consequent=[deceleration['high'], stop_decision['stop']])\n",
    "\n",
    "rule2 = ctrl.Rule(signal_color['green'] & distance['far'], \n",
    "                  consequent=[deceleration['none'], stop_decision['go']])\n",
    "\n",
    "rule3 = ctrl.Rule(signal_color['yellow'] & distance['medium'], \n",
    "                  consequent=[deceleration['moderate'], stop_decision['stop']])"
   ]
  },
  {
   "cell_type": "code",
   "execution_count": 7,
   "id": "41ec905c",
   "metadata": {},
   "outputs": [
    {
     "name": "stdout",
     "output_type": "stream",
     "text": [
      "Recommended Deceleration: 8.83\n",
      "Decision (0 = Stop, 1 = Go): 0.39\n"
     ]
    }
   ],
   "source": [
    "traffic_ctrl = ctrl.ControlSystem([rule1, rule2, rule3])\n",
    "traffic_simulation = ctrl.ControlSystemSimulation(traffic_ctrl)\n",
    "\n",
    "# Example input\n",
    "traffic_simulation.input['signal_color'] = 0  # Red\n",
    "traffic_simulation.input['distance'] = 20     # Close\n",
    "traffic_simulation.compute()\n",
    "\n",
    "print(f\"Recommended Deceleration: {traffic_simulation.output['deceleration']:.2f}\")\n",
    "print(f\"Decision (0 = Stop, 1 = Go): {traffic_simulation.output['stop_decision']:.2f}\")\n"
   ]
  }
 ],
 "metadata": {
  "kernelspec": {
   "display_name": "Python 3",
   "language": "python",
   "name": "python3"
  },
  "language_info": {
   "codemirror_mode": {
    "name": "ipython",
    "version": 3
   },
   "file_extension": ".py",
   "mimetype": "text/x-python",
   "name": "python",
   "nbconvert_exporter": "python",
   "pygments_lexer": "ipython3",
   "version": "3.10.0"
  }
 },
 "nbformat": 4,
 "nbformat_minor": 5
}
