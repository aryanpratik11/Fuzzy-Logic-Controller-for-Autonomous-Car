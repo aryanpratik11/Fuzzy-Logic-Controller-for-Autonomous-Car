{
 "cells": [
  {
   "cell_type": "code",
   "execution_count": 1,
   "id": "4ec0f186",
   "metadata": {},
   "outputs": [],
   "source": [
    "import numpy as np\n",
    "import skfuzzy as fuzz\n",
    "from skfuzzy import control as ctrl"
   ]
  },
  {
   "cell_type": "code",
   "execution_count": 2,
   "id": "e3026736",
   "metadata": {},
   "outputs": [],
   "source": [
    "# Define inputs\n",
    "distance = ctrl.Antecedent(np.arange(0, 101, 1), 'distance')  # Distance to vehicle ahead\n",
    "relative_speed = ctrl.Antecedent(np.arange(-50, 51, 1), 'relative_speed')  # Negative = vehicle ahead is slower"
   ]
  },
  {
   "cell_type": "code",
   "execution_count": 3,
   "id": "40415d0d",
   "metadata": {},
   "outputs": [],
   "source": [
    "# Define outputs\n",
    "throttle = ctrl.Consequent(np.arange(0, 11, 1), 'throttle')  # 0 = decrease, 10 = increase\n",
    "brake = ctrl.Consequent(np.arange(0, 101, 1), 'brake')  # Brake pressure"
   ]
  },
  {
   "cell_type": "code",
   "execution_count": 4,
   "id": "5feecaee",
   "metadata": {},
   "outputs": [],
   "source": [
    "# Membership functions for distance\n",
    "distance['close'] = fuzz.trimf(distance.universe, [0, 0, 40])\n",
    "distance['medium'] = fuzz.trimf(distance.universe, [30, 50, 70])\n",
    "distance['far'] = fuzz.trimf(distance.universe, [60, 100, 100])\n",
    "\n",
    "# Membership functions for relative speed\n",
    "relative_speed['slower'] = fuzz.trimf(relative_speed.universe, [-50, -50, 0])\n",
    "relative_speed['same'] = fuzz.trimf(relative_speed.universe, [-10, 0, 10])\n",
    "relative_speed['faster'] = fuzz.trimf(relative_speed.universe, [0, 50, 50])\n",
    "\n",
    "# Membership functions for throttle\n",
    "throttle['decrease'] = fuzz.trimf(throttle.universe, [0, 0, 3])\n",
    "throttle['maintain'] = fuzz.trimf(throttle.universe, [3, 5, 7])\n",
    "throttle['increase'] = fuzz.trimf(throttle.universe, [7, 10, 10])\n",
    "\n",
    "# Membership functions for brake\n",
    "brake['low'] = fuzz.trimf(brake.universe, [0, 0, 30])\n",
    "brake['medium'] = fuzz.trimf(brake.universe, [20, 50, 80])\n",
    "brake['high'] = fuzz.trimf(brake.universe, [70, 100, 100])"
   ]
  },
  {
   "cell_type": "code",
   "execution_count": 5,
   "id": "9e0c711e",
   "metadata": {},
   "outputs": [],
   "source": [
    "# Define fuzzy rules\n",
    "rule1 = ctrl.Rule(distance['close'] & relative_speed['slower'],\n",
    "                  consequent=[throttle['decrease'], brake['medium']])\n",
    "\n",
    "rule2 = ctrl.Rule(distance['close'] & relative_speed['same'],\n",
    "                  consequent=[throttle['decrease'], brake['high']])\n",
    "\n",
    "rule3 = ctrl.Rule(distance['medium'] & relative_speed['slower'],\n",
    "                  consequent=[throttle['maintain'], brake['low']])\n",
    "\n",
    "rule4 = ctrl.Rule(distance['medium'] & relative_speed['same'],\n",
    "                  consequent=[throttle['maintain'], brake['low']])\n",
    "\n",
    "rule5 = ctrl.Rule(distance['far'] & relative_speed['same'],\n",
    "                  consequent=[throttle['increase'], brake['low']])\n",
    "\n",
    "rule6 = ctrl.Rule(distance['far'] & relative_speed['faster'],\n",
    "                  consequent=[throttle['increase'], brake['low']])\n",
    "\n",
    "rule7 = ctrl.Rule(distance['far'] & relative_speed['slower'],\n",
    "                  consequent=[throttle['maintain'], brake['low']])"
   ]
  },
  {
   "cell_type": "code",
   "execution_count": 6,
   "id": "3cd6986c",
   "metadata": {},
   "outputs": [],
   "source": [
    "# Create control system\n",
    "acc_system = ctrl.ControlSystem([rule1, rule2, rule3, rule4, rule5, rule6, rule7])\n",
    "acc_sim = ctrl.ControlSystemSimulation(acc_system)"
   ]
  },
  {
   "cell_type": "code",
   "execution_count": 7,
   "id": "ec77db91",
   "metadata": {},
   "outputs": [
    {
     "name": "stdout",
     "output_type": "stream",
     "text": [
      "Throttle Adjustment: 1.24\n",
      "Brake Pressure: 50.00\n"
     ]
    }
   ],
   "source": [
    "# Example inputs\n",
    "acc_sim.input['distance'] = 25       # Close distance\n",
    "acc_sim.input['relative_speed'] = -20  # Vehicle ahead is slower\n",
    "\n",
    "# Compute the output\n",
    "acc_sim.compute()\n",
    "\n",
    "# Show results\n",
    "print(f\"Throttle Adjustment: {acc_sim.output['throttle']:.2f}\")\n",
    "print(f\"Brake Pressure: {acc_sim.output['brake']:.2f}\")"
   ]
  }
 ],
 "metadata": {
  "kernelspec": {
   "display_name": "Python 3",
   "language": "python",
   "name": "python3"
  },
  "language_info": {
   "codemirror_mode": {
    "name": "ipython",
    "version": 3
   },
   "file_extension": ".py",
   "mimetype": "text/x-python",
   "name": "python",
   "nbconvert_exporter": "python",
   "pygments_lexer": "ipython3",
   "version": "3.10.0"
  }
 },
 "nbformat": 4,
 "nbformat_minor": 5
}
