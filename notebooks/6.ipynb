{
 "cells": [
  {
   "cell_type": "code",
   "execution_count": 1,
   "id": "29f00403",
   "metadata": {},
   "outputs": [],
   "source": [
    "import numpy as np\n",
    "import skfuzzy as fuzz\n",
    "from skfuzzy import control as ctrl"
   ]
  },
  {
   "cell_type": "code",
   "execution_count": 2,
   "id": "1f2cbe52",
   "metadata": {},
   "outputs": [],
   "source": [
    "# Define input variables\n",
    "obstacle_distance = ctrl.Antecedent(np.arange(0, 101, 1), 'obstacle_distance')\n",
    "obstacle_position = ctrl.Antecedent(np.arange(0, 3, 1), 'obstacle_position')  # 0: Left, 1: Center, 2: Right"
   ]
  },
  {
   "cell_type": "code",
   "execution_count": 3,
   "id": "904c00ad",
   "metadata": {},
   "outputs": [],
   "source": [
    "# Define output variables\n",
    "steering = ctrl.Consequent(np.arange(-100, 101, 1), 'steering')\n",
    "deceleration = ctrl.Consequent(np.arange(0, 11, 1), 'deceleration')"
   ]
  },
  {
   "cell_type": "code",
   "execution_count": 4,
   "id": "768e1f08",
   "metadata": {},
   "outputs": [],
   "source": [
    "# Membership functions for obstacle distance\n",
    "obstacle_distance['close'] = fuzz.trimf(obstacle_distance.universe, [0, 0, 40])\n",
    "obstacle_distance['medium'] = fuzz.trimf(obstacle_distance.universe, [30, 50, 70])\n",
    "obstacle_distance['far'] = fuzz.trimf(obstacle_distance.universe, [60, 100, 100])\n",
    "\n",
    "# Membership functions for obstacle position\n",
    "obstacle_position['left'] = fuzz.trimf(obstacle_position.universe, [0, 0, 1])\n",
    "obstacle_position['center'] = fuzz.trimf(obstacle_position.universe, [0.5, 1, 1.5])\n",
    "obstacle_position['right'] = fuzz.trimf(obstacle_position.universe, [1, 2, 2])\n",
    "\n",
    "# Membership functions for steering\n",
    "steering['sharp_left'] = fuzz.trimf(steering.universe, [-100, -100, -60])\n",
    "steering['slight_left'] = fuzz.trimf(steering.universe, [-70, -40, -10])\n",
    "steering['straight'] = fuzz.trimf(steering.universe, [-20, 0, 20])\n",
    "steering['slight_right'] = fuzz.trimf(steering.universe, [10, 40, 70])\n",
    "steering['sharp_right'] = fuzz.trimf(steering.universe, [60, 100, 100])\n",
    "\n",
    "# Membership functions for deceleration\n",
    "deceleration['none'] = fuzz.trimf(deceleration.universe, [0, 0, 2])\n",
    "deceleration['moderate'] = fuzz.trimf(deceleration.universe, [2, 5, 8])\n",
    "deceleration['high'] = fuzz.trimf(deceleration.universe, [7, 10, 10])"
   ]
  },
  {
   "cell_type": "code",
   "execution_count": 6,
   "id": "a32d6be0",
   "metadata": {},
   "outputs": [],
   "source": [
    "# Define fuzzy rules\n",
    "rule1 = ctrl.Rule(obstacle_distance['close'] & obstacle_position['center'],\n",
    "                  consequent=[steering['sharp_left'], deceleration['moderate']])\n",
    "rule2 = ctrl.Rule(obstacle_distance['close'] & obstacle_position['left'],\n",
    "                  consequent=[steering['sharp_right'], deceleration['high']])\n",
    "rule3 = ctrl.Rule(obstacle_distance['close'] & obstacle_position['right'],\n",
    "                  consequent=[steering['sharp_left'], deceleration['high']])\n",
    "rule4 = ctrl.Rule(obstacle_distance['medium'] & obstacle_position['center'],\n",
    "                  consequent=[steering['slight_left'], deceleration['moderate']])\n",
    "rule5 = ctrl.Rule(obstacle_distance['medium'] & obstacle_position['left'],\n",
    "                  consequent=[steering['slight_right'], deceleration['moderate']])\n",
    "rule6 = ctrl.Rule(obstacle_distance['medium'] & obstacle_position['right'],\n",
    "                  consequent=[steering['slight_left'], deceleration['moderate']])\n",
    "rule7 = ctrl.Rule(obstacle_distance['far'],\n",
    "                  consequent=[steering['straight'], deceleration['none']])"
   ]
  },
  {
   "cell_type": "code",
   "execution_count": 7,
   "id": "deee9c1a",
   "metadata": {},
   "outputs": [],
   "source": [
    "# Create control system and simulation\n",
    "obstacle_ctrl = ctrl.ControlSystem([rule1, rule2, rule3, rule4, rule5, rule6, rule7])\n",
    "obstacle_simulation = ctrl.ControlSystemSimulation(obstacle_ctrl)"
   ]
  },
  {
   "cell_type": "code",
   "execution_count": 8,
   "id": "ab0f642b",
   "metadata": {},
   "outputs": [
    {
     "name": "stdout",
     "output_type": "stream",
     "text": [
      "Steering Adjustment: -83.46\n",
      "Deceleration: 5.00\n"
     ]
    }
   ],
   "source": [
    "# Example input\n",
    "obstacle_simulation.input['obstacle_distance'] = 25\n",
    "obstacle_simulation.input['obstacle_position'] = 1  # Center\n",
    "\n",
    "# Compute\n",
    "obstacle_simulation.compute()\n",
    "\n",
    "# Output\n",
    "print(f\"Steering Adjustment: {obstacle_simulation.output['steering']:.2f}\")\n",
    "print(f\"Deceleration: {obstacle_simulation.output['deceleration']:.2f}\")"
   ]
  }
 ],
 "metadata": {
  "kernelspec": {
   "display_name": "Python 3",
   "language": "python",
   "name": "python3"
  },
  "language_info": {
   "codemirror_mode": {
    "name": "ipython",
    "version": 3
   },
   "file_extension": ".py",
   "mimetype": "text/x-python",
   "name": "python",
   "nbconvert_exporter": "python",
   "pygments_lexer": "ipython3",
   "version": "3.10.0"
  }
 },
 "nbformat": 4,
 "nbformat_minor": 5
}
