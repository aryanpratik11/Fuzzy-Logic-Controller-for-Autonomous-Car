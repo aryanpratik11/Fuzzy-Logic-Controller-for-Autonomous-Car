{
 "cells": [
  {
   "cell_type": "code",
   "execution_count": 1,
   "id": "314ed177",
   "metadata": {},
   "outputs": [],
   "source": [
    "import numpy as np\n",
    "import skfuzzy as fuzz\n",
    "from skfuzzy import control as ctrl"
   ]
  },
  {
   "cell_type": "code",
   "execution_count": 3,
   "id": "201a71c1",
   "metadata": {},
   "outputs": [],
   "source": [
    "road = ctrl.Antecedent(np.arange(0, 3, 1), 'road')  # 0: Dry, 1: Wet, 2: Icy\n",
    "visibility = ctrl.Antecedent(np.arange(0, 3, 1), 'visibility')  # 0: Clear, 1: Foggy, 2: Poor"
   ]
  },
  {
   "cell_type": "code",
   "execution_count": 4,
   "id": "15c7382e",
   "metadata": {},
   "outputs": [],
   "source": [
    "speed = ctrl.Consequent(np.arange(0, 3, 1), 'speed')  # 0: Slow Down, 1: Maintain, 2: Speed Up\n",
    "brake = ctrl.Consequent(np.arange(0, 3, 1), 'brake')  # 0: Low, 1: Medium, 2: High"
   ]
  },
  {
   "cell_type": "code",
   "execution_count": 5,
   "id": "20ac11ec",
   "metadata": {},
   "outputs": [],
   "source": [
    "# Membership functions for road\n",
    "road['dry'] = fuzz.trimf(road.universe, [0, 0, 0])\n",
    "road['wet'] = fuzz.trimf(road.universe, [1, 1, 1])\n",
    "road['icy'] = fuzz.trimf(road.universe, [2, 2, 2])\n",
    "\n",
    "# Membership functions for visibility\n",
    "visibility['clear'] = fuzz.trimf(visibility.universe, [0, 0, 0])\n",
    "visibility['foggy'] = fuzz.trimf(visibility.universe, [1, 1, 1])\n",
    "visibility['poor'] = fuzz.trimf(visibility.universe, [2, 2, 2])\n",
    "\n",
    "# Membership functions for speed\n",
    "speed['slow'] = fuzz.trimf(speed.universe, [0, 0, 0])\n",
    "speed['maintain'] = fuzz.trimf(speed.universe, [1, 1, 1])\n",
    "speed['fast'] = fuzz.trimf(speed.universe, [2, 2, 2])\n",
    "\n",
    "# Membership functions for brake\n",
    "brake['low'] = fuzz.trimf(brake.universe, [0, 0, 0])\n",
    "brake['medium'] = fuzz.trimf(brake.universe, [1, 1, 1])\n",
    "brake['high'] = fuzz.trimf(brake.universe, [2, 2, 2])\n"
   ]
  },
  {
   "cell_type": "code",
   "execution_count": 6,
   "id": "7bcba397",
   "metadata": {},
   "outputs": [],
   "source": [
    "# Define rules\n",
    "rule1 = ctrl.Rule(road['icy'] & visibility['poor'],\n",
    "                  consequent=[speed['slow'], brake['high']])\n",
    "\n",
    "rule2 = ctrl.Rule(road['dry'] & visibility['clear'],\n",
    "                  consequent=[speed['maintain'], brake['low']])\n",
    "\n",
    "rule3 = ctrl.Rule(road['wet'] & visibility['foggy'],\n",
    "                  consequent=[speed['slow'], brake['medium']])\n",
    "\n",
    "rule4 = ctrl.Rule(road['wet'] & visibility['clear'],\n",
    "                  consequent=[speed['maintain'], brake['medium']])\n"
   ]
  },
  {
   "cell_type": "code",
   "execution_count": 7,
   "id": "27f5bb4e",
   "metadata": {},
   "outputs": [
    {
     "name": "stdout",
     "output_type": "stream",
     "text": [
      "0.3333333333333333 1.6666666666666665\n"
     ]
    }
   ],
   "source": [
    "system = ctrl.ControlSystem([rule1, rule2, rule3, rule4])\n",
    "simulation = ctrl.ControlSystemSimulation(system)\n",
    "\n",
    "# To test:\n",
    "simulation.input['road'] = 2\n",
    "simulation.input['visibility'] = 2\n",
    "simulation.compute()\n",
    "print(simulation.output['speed'], simulation.output['brake'])"
   ]
  }
 ],
 "metadata": {
  "kernelspec": {
   "display_name": "Python 3",
   "language": "python",
   "name": "python3"
  },
  "language_info": {
   "codemirror_mode": {
    "name": "ipython",
    "version": 3
   },
   "file_extension": ".py",
   "mimetype": "text/x-python",
   "name": "python",
   "nbconvert_exporter": "python",
   "pygments_lexer": "ipython3",
   "version": "3.10.0"
  }
 },
 "nbformat": 4,
 "nbformat_minor": 5
}
