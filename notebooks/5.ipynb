{
 "cells": [
  {
   "cell_type": "code",
   "execution_count": 1,
   "id": "7a595688",
   "metadata": {},
   "outputs": [],
   "source": [
    "import numpy as np\n",
    "import skfuzzy as fuzz\n",
    "from skfuzzy import control as ctrl"
   ]
  },
  {
   "cell_type": "code",
   "execution_count": 2,
   "id": "3c49f9fc",
   "metadata": {},
   "outputs": [],
   "source": [
    "# Define inputs\n",
    "distance = ctrl.Antecedent(np.arange(0, 101, 1), 'distance')  # cm\n",
    "angle = ctrl.Antecedent(np.arange(0, 181, 1), 'angle')        # degrees"
   ]
  },
  {
   "cell_type": "code",
   "execution_count": 3,
   "id": "7fb99023",
   "metadata": {},
   "outputs": [],
   "source": [
    "# Define outputs\n",
    "steering = ctrl.Consequent(np.arange(-100, 101, 1), 'steering')  # -100 (sharp left) to 100 (sharp right)\n",
    "speed = ctrl.Consequent(np.arange(0, 11, 1), 'speed')             # 0 (stop) to 10 (slow)"
   ]
  },
  {
   "cell_type": "code",
   "execution_count": 4,
   "id": "7b262bb3",
   "metadata": {},
   "outputs": [],
   "source": [
    "# Membership functions for distance\n",
    "distance['close'] = fuzz.trimf(distance.universe, [0, 0, 30])\n",
    "distance['medium'] = fuzz.trimf(distance.universe, [20, 50, 80])\n",
    "distance['far'] = fuzz.trimf(distance.universe, [70, 100, 100])\n",
    "\n",
    "# Membership functions for angle\n",
    "angle['acute'] = fuzz.trimf(angle.universe, [0, 0, 60])\n",
    "angle['right'] = fuzz.trimf(angle.universe, [60, 90, 120])\n",
    "angle['obtuse'] = fuzz.trimf(angle.universe, [120, 180, 180])\n",
    "\n",
    "# Membership functions for steering\n",
    "steering['sharp_left'] = fuzz.trimf(steering.universe, [-100, -100, -60])\n",
    "steering['slight_left'] = fuzz.trimf(steering.universe, [-70, -40, -10])\n",
    "steering['straight'] = fuzz.trimf(steering.universe, [-20, 0, 20])\n",
    "steering['slight_right'] = fuzz.trimf(steering.universe, [10, 40, 70])\n",
    "steering['sharp_right'] = fuzz.trimf(steering.universe, [60, 100, 100])\n",
    "\n",
    "# Membership functions for speed\n",
    "speed['stop'] = fuzz.trimf(speed.universe, [0, 0, 2])\n",
    "speed['slow'] = fuzz.trimf(speed.universe, [2, 6, 10])"
   ]
  },
  {
   "cell_type": "code",
   "execution_count": 5,
   "id": "77bdf6cd",
   "metadata": {},
   "outputs": [],
   "source": [
    "# Define fuzzy rules\n",
    "rule1 = ctrl.Rule(distance['close'] & angle['acute'],\n",
    "                  consequent=[steering['sharp_right'], speed['slow']])\n",
    "\n",
    "rule2 = ctrl.Rule(distance['close'] & angle['obtuse'],\n",
    "                  consequent=[steering['sharp_left'], speed['slow']])\n",
    "\n",
    "rule3 = ctrl.Rule(distance['medium'] & angle['right'],\n",
    "                  consequent=[steering['straight'], speed['slow']])\n",
    "\n",
    "rule4 = ctrl.Rule(distance['far'] & angle['acute'],\n",
    "                  consequent=[steering['slight_right'], speed['slow']])\n",
    "\n",
    "rule5 = ctrl.Rule(distance['far'] & angle['obtuse'],\n",
    "                  consequent=[steering['slight_left'], speed['slow']])\n",
    "\n",
    "rule6 = ctrl.Rule(angle['right'] & distance['close'],\n",
    "                  consequent=[steering['straight'], speed['stop']])"
   ]
  },
  {
   "cell_type": "code",
   "execution_count": 6,
   "id": "cc7b93e7",
   "metadata": {},
   "outputs": [],
   "source": [
    "# Create control system\n",
    "parking_ctrl = ctrl.ControlSystem([rule1, rule2, rule3, rule4, rule5, rule6])\n",
    "parking_sim = ctrl.ControlSystemSimulation(parking_ctrl)"
   ]
  },
  {
   "cell_type": "code",
   "execution_count": 7,
   "id": "7dde7f4d",
   "metadata": {},
   "outputs": [
    {
     "name": "stdout",
     "output_type": "stream",
     "text": [
      "Steering Output: 81.62\n",
      "Speed Output: 6.00\n"
     ]
    }
   ],
   "source": [
    "# Test with sample input\n",
    "parking_sim.input['distance'] = 25\n",
    "parking_sim.input['angle'] = 45\n",
    "parking_sim.compute()\n",
    "\n",
    "print(f\"Steering Output: {parking_sim.output['steering']:.2f}\")\n",
    "print(f\"Speed Output: {parking_sim.output['speed']:.2f}\")"
   ]
  }
 ],
 "metadata": {
  "kernelspec": {
   "display_name": "Python 3",
   "language": "python",
   "name": "python3"
  },
  "language_info": {
   "codemirror_mode": {
    "name": "ipython",
    "version": 3
   },
   "file_extension": ".py",
   "mimetype": "text/x-python",
   "name": "python",
   "nbconvert_exporter": "python",
   "pygments_lexer": "ipython3",
   "version": "3.10.0"
  }
 },
 "nbformat": 4,
 "nbformat_minor": 5
}
